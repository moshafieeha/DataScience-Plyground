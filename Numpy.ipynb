{
 "cells": [
  {
   "cell_type": "markdown",
   "metadata": {},
   "source": [
    "# Numpy"
   ]
  },
  {
   "cell_type": "code",
   "execution_count": 2,
   "metadata": {},
   "outputs": [],
   "source": [
    "import numpy as np"
   ]
  },
  {
   "cell_type": "markdown",
   "metadata": {},
   "source": [
    "## Basic"
   ]
  },
  {
   "cell_type": "markdown",
   "metadata": {},
   "source": [
    "#### Q1 : A vector of 20 integers from 1 to 20"
   ]
  },
  {
   "cell_type": "code",
   "execution_count": 7,
   "metadata": {},
   "outputs": [
    {
     "data": {
      "text/plain": [
       "array([ 1,  2,  3,  4,  5,  6,  7,  8,  9, 10, 11, 12, 13, 14, 15, 16, 17,\n",
       "       18, 19, 20])"
      ]
     },
     "execution_count": 7,
     "metadata": {},
     "output_type": "execute_result"
    }
   ],
   "source": [
    "output = np.arange(1, 21, dtype=int)\n",
    "output"
   ]
  },
  {
   "cell_type": "markdown",
   "metadata": {},
   "source": [
    "#### 2 : A matrix of 4 rows and 5 columns with radnom integers between 10 and 50"
   ]
  },
  {
   "cell_type": "code",
   "execution_count": 14,
   "metadata": {},
   "outputs": [
    {
     "data": {
      "text/plain": [
       "array([[33, 30, 36, 12, 27],\n",
       "       [32, 39, 28, 30, 17],\n",
       "       [32, 38, 30, 18, 27],\n",
       "       [22, 20, 37, 29, 33]])"
      ]
     },
     "execution_count": 14,
     "metadata": {},
     "output_type": "execute_result"
    }
   ],
   "source": [
    "output = np.random.randint(10, 51, 20).reshape(4,5)\n",
    "output"
   ]
  },
  {
   "cell_type": "code",
   "execution_count": 19,
   "metadata": {},
   "outputs": [
    {
     "data": {
      "text/plain": [
       "array([[28, 45, 48, 10, 44],\n",
       "       [39, 32, 48, 33, 10],\n",
       "       [25, 11, 46, 47, 36],\n",
       "       [40, 21, 20, 39, 32]])"
      ]
     },
     "execution_count": 19,
     "metadata": {},
     "output_type": "execute_result"
    }
   ],
   "source": [
    "result = np.random.randint(10, 51, (4,5))\n",
    "result"
   ]
  },
  {
   "cell_type": "markdown",
   "metadata": {},
   "source": [
    "#### Q3 : A identity matrix of 3 rows and 3 columns"
   ]
  },
  {
   "cell_type": "code",
   "execution_count": 17,
   "metadata": {},
   "outputs": [
    {
     "data": {
      "text/plain": [
       "array([[1., 0., 0.],\n",
       "       [0., 1., 0.],\n",
       "       [0., 0., 1.]])"
      ]
     },
     "execution_count": 17,
     "metadata": {},
     "output_type": "execute_result"
    }
   ],
   "source": [
    "output = np.eye(3,3)\n",
    "output"
   ]
  },
  {
   "cell_type": "code",
   "execution_count": 18,
   "metadata": {},
   "outputs": [
    {
     "data": {
      "text/plain": [
       "array([[1., 0., 0.],\n",
       "       [0., 1., 0.],\n",
       "       [0., 0., 1.]])"
      ]
     },
     "execution_count": 18,
     "metadata": {},
     "output_type": "execute_result"
    }
   ],
   "source": [
    "result = np.identity(3)\n",
    "result"
   ]
  },
  {
   "cell_type": "markdown",
   "metadata": {},
   "source": [
    "#### Q4 : A vector of 10 evenly spaced numbers between 0 and 1"
   ]
  },
  {
   "cell_type": "code",
   "execution_count": 22,
   "metadata": {},
   "outputs": [
    {
     "data": {
      "text/plain": [
       "array([0. , 0.1, 0.2, 0.3, 0.4, 0.5, 0.6, 0.7, 0.8, 0.9])"
      ]
     },
     "execution_count": 22,
     "metadata": {},
     "output_type": "execute_result"
    }
   ],
   "source": [
    "output = np.linspace(0.0, 1.0, num=10, endpoint=False)\n",
    "output"
   ]
  },
  {
   "cell_type": "markdown",
   "metadata": {},
   "source": [
    "#### Q5 : A matrix of 3x3 filled with 7 for main diagonal"
   ]
  },
  {
   "cell_type": "code",
   "execution_count": 25,
   "metadata": {},
   "outputs": [
    {
     "data": {
      "text/plain": [
       "array([[7., 0., 0., 0.],\n",
       "       [0., 7., 0., 0.],\n",
       "       [0., 0., 7., 0.],\n",
       "       [0., 0., 0., 7.]])"
      ]
     },
     "execution_count": 25,
     "metadata": {},
     "output_type": "execute_result"
    }
   ],
   "source": [
    "output = np.eye(4)*7\n",
    "output\n"
   ]
  },
  {
   "cell_type": "markdown",
   "metadata": {},
   "source": [
    "#### Q6: Creates a matrix, calculates column means, and normalizes it."
   ]
  },
  {
   "cell_type": "code",
   "execution_count": 37,
   "metadata": {},
   "outputs": [
    {
     "name": "stdout",
     "output_type": "stream",
     "text": [
      "[[ -8 -13  52   7]\n",
      " [-94  51  21 -82]\n",
      " [ 63  19  32 -13]] \n",
      "\n",
      "[-13.          19.          35.         -29.33333333] \n",
      "\n",
      "[[  5.         -32.          17.          36.33333333]\n",
      " [-81.          32.         -14.         -52.66666667]\n",
      " [ 76.           0.          -3.          16.33333333]] \n",
      "\n",
      "[ 0.00000000e+00  0.00000000e+00  0.00000000e+00 -3.55271368e-15] \n",
      "\n",
      "[ 0.  0.  0. -0.]\n"
     ]
    }
   ],
   "source": [
    "matrix = np.random.randint(-100, 101, (3, 4))\n",
    "print(matrix,'\\n')\n",
    "\n",
    "col_means = matrix.mean(axis=0)\n",
    "print(col_means,'\\n')\n",
    "\n",
    "output = matrix - col_means\n",
    "print(output,'\\n')\n",
    "\n",
    "# check the new column means, should be 0\n",
    "new_col_means = output.mean(axis=0)\n",
    "print(new_col_means,'\\n')\n",
    "\n",
    "rounded_new_means = np.round(new_col_means, decimals=10)\n",
    "print(rounded_new_means)"
   ]
  },
  {
   "cell_type": "markdown",
   "metadata": {},
   "source": [
    "#### Q7: Creates a matrix, calculates column std, and normalizes it."
   ]
  },
  {
   "cell_type": "code",
   "execution_count": 39,
   "metadata": {},
   "outputs": [
    {
     "name": "stdout",
     "output_type": "stream",
     "text": [
      "[[ 46 -28 -31 -72]\n",
      " [ 73 -27   3 -29]\n",
      " [ 67  76  14  82]] \n",
      "\n",
      "[11.5758369  48.79207586 19.15434386 64.88108781] \n",
      "\n",
      "[[ 3.97379476 -0.57386368 -1.61843184 -1.10972245]\n",
      " [ 6.30623951 -0.55336854  0.15662244 -0.44697154]\n",
      " [ 5.78791845  1.55762998  0.7309047   1.26385057]] \n",
      "\n",
      "[1. 1. 1. 1.] \n",
      "\n"
     ]
    }
   ],
   "source": [
    "matrix = np.random.randint(-100, 101, (3, 4))\n",
    "print(matrix,'\\n')\n",
    "\n",
    "col_std = matrix.std(axis=0)\n",
    "print(col_std,'\\n')\n",
    "\n",
    "output = matrix / col_std\n",
    "print(output,'\\n')\n",
    "\n",
    "# check the new column std, should be 1\n",
    "new_col_std = output.std(axis=0)\n",
    "print(new_col_std)"
   ]
  },
  {
   "cell_type": "markdown",
   "metadata": {},
   "source": [
    "#### Q8: Scale the values of the matrix to the range [0, 1]"
   ]
  },
  {
   "cell_type": "code",
   "execution_count": 40,
   "metadata": {},
   "outputs": [
    {
     "name": "stdout",
     "output_type": "stream",
     "text": [
      "Original Matrix:\n",
      "[[ -1  56 -50  -2]\n",
      " [-81 -83   3  16]\n",
      " [-52  99 -22  17]]\n",
      "\n",
      "Scaled Matrix between 0 and 1:\n",
      "[[0.45054945 0.76373626 0.18131868 0.44505495]\n",
      " [0.01098901 0.         0.47252747 0.54395604]\n",
      " [0.17032967 1.         0.33516484 0.54945055]]\n"
     ]
    }
   ],
   "source": [
    "matrix = np.random.randint(-100, 101, (3, 4))\n",
    "print(matrix, 'n')\n",
    "\n",
    "scaled_matrix = (matrix - np.min(matrix)) / (np.max(matrix) - np.min(matrix))\n",
    "print(scaled_matrix)"
   ]
  },
  {
   "cell_type": "markdown",
   "metadata": {},
   "source": [
    "#### Q9: Sum two vectors"
   ]
  },
  {
   "cell_type": "code",
   "execution_count": 46,
   "metadata": {},
   "outputs": [
    {
     "name": "stdout",
     "output_type": "stream",
     "text": [
      "[7 1 2 6 9] [3 8 1 6 8]\n",
      "[10  9  3 12 17]\n"
     ]
    }
   ],
   "source": [
    "vector1 = np.random.randint(0, 10, 5)\n",
    "vector2 = np.random.randint(0, 10, 5)\n",
    "\n",
    "print (vector1, vector2)\n",
    "\n",
    "result = (vector1 + vector2)\n",
    "print(result)"
   ]
  },
  {
   "cell_type": "markdown",
   "metadata": {},
   "source": [
    "#### Q10: Multply a matrix in a constant number"
   ]
  },
  {
   "cell_type": "code",
   "execution_count": 51,
   "metadata": {},
   "outputs": [
    {
     "name": "stdout",
     "output_type": "stream",
     "text": [
      "[[3 1 2 6]\n",
      " [4 5 9 9]\n",
      " [4 1 7 8]\n",
      " [7 9 3 0]\n",
      " [3 6 0 0]] \n",
      "\n",
      "[[15  5 10 30]\n",
      " [20 25 45 45]\n",
      " [20  5 35 40]\n",
      " [35 45 15  0]\n",
      " [15 30  0  0]]\n"
     ]
    }
   ],
   "source": [
    "matrix = np.random.randint(0, 10, (5,4))\n",
    "\n",
    "print (matrix, '\\n')\n",
    "\n",
    "result = (matrix *5)\n",
    "print(result)"
   ]
  },
  {
   "cell_type": "markdown",
   "metadata": {},
   "source": [
    "#### Q11: Create vector C with the maximum of corresponding elements from A and B"
   ]
  },
  {
   "cell_type": "code",
   "execution_count": 54,
   "metadata": {},
   "outputs": [
    {
     "name": "stdout",
     "output_type": "stream",
     "text": [
      "[1 3 5 7 9] [ 2  4  6  8 10] \n",
      "\n",
      "[ 2  4  6  8 10]\n"
     ]
    }
   ],
   "source": [
    "A = np.array([1, 3, 5, 7, 9])\n",
    "B = np.array([2, 4, 6, 8, 10])\n",
    "print(A, B, '\\n')\n",
    "\n",
    "C = np.maximum(A, B)\n",
    "print(C)"
   ]
  },
  {
   "cell_type": "markdown",
   "metadata": {},
   "source": [
    "#### Q12"
   ]
  },
  {
   "cell_type": "markdown",
   "metadata": {},
   "source": [
    "#### Q13: Mines a vector from matrix rows"
   ]
  },
  {
   "cell_type": "code",
   "execution_count": 59,
   "metadata": {},
   "outputs": [
    {
     "name": "stdout",
     "output_type": "stream",
     "text": [
      "[[-14  20   8 -10]\n",
      " [  6   7   7 -15]\n",
      " [ -9 -16  -3   7]\n",
      " [-10  12   9  20]\n",
      " [  2  10  20  15]] \n",
      "\n",
      "[[8 7 0 7]] \n",
      "\n",
      "[[-22  13   8 -17]\n",
      " [ -2   0   7 -22]\n",
      " [-17 -23  -3   0]\n",
      " [-18   5   9  13]\n",
      " [ -6   3  20   8]] \n",
      "\n"
     ]
    }
   ],
   "source": [
    "matrix = np.random.randint(-20, 21, (5, 4))\n",
    "print(matrix,'\\n')\n",
    "\n",
    "vector = np.random.randint(0, 10, (1,4))\n",
    "print(vector,'\\n')\n",
    "\n",
    "output = matrix - vector\n",
    "print(output)"
   ]
  },
  {
   "cell_type": "markdown",
   "metadata": {},
   "source": [
    "#### Q14: Create a 3x4 matrix from a vector of numbers 0 to 11"
   ]
  },
  {
   "cell_type": "code",
   "execution_count": 62,
   "metadata": {},
   "outputs": [
    {
     "name": "stdout",
     "output_type": "stream",
     "text": [
      "[[ 0  1  2  3]\n",
      " [ 4  5  6  7]\n",
      " [ 8  9 10 11]]\n"
     ]
    }
   ],
   "source": [
    "vector = np.arange(12)\n",
    "\n",
    "matrix = vector.reshape(3, 4)\n",
    "print(matrix)"
   ]
  },
  {
   "cell_type": "markdown",
   "metadata": {},
   "source": [
    "#### Q15: Create a 3x4 matrix from a vector of numbers 0 to 11 (column first)"
   ]
  },
  {
   "cell_type": "code",
   "execution_count": 63,
   "metadata": {},
   "outputs": [
    {
     "name": "stdout",
     "output_type": "stream",
     "text": [
      "[[ 0  3  6  9]\n",
      " [ 1  4  7 10]\n",
      " [ 2  5  8 11]]\n"
     ]
    }
   ],
   "source": [
    "vector = np.arange(12)\n",
    "\n",
    "matrix = vector.reshape(4, 3).T\n",
    "print(matrix)"
   ]
  },
  {
   "cell_type": "markdown",
   "metadata": {},
   "source": [
    "#### Q16"
   ]
  },
  {
   "cell_type": "code",
   "execution_count": 67,
   "metadata": {},
   "outputs": [
    {
     "name": "stdout",
     "output_type": "stream",
     "text": [
      "[[  1   1   8  18  -4]\n",
      " [  4   3  17   9   9]\n",
      " [  0   7  16  19  10]\n",
      " [ -9 -16 -18 -15  18]\n",
      " [-15 -12 -15   3  20]] \n",
      "\n"
     ]
    },
    {
     "data": {
      "text/plain": [
       "array([[ 1,  1,  8, 18, -4],\n",
       "       [ 0,  7, 16, 19, 10]])"
      ]
     },
     "execution_count": 67,
     "metadata": {},
     "output_type": "execute_result"
    }
   ],
   "source": [
    "matrix = np.random.randint(-20, 21, (5, 5))\n",
    "print(matrix, '\\n')\n",
    "\n",
    "output = matrix[(0,2),:]\n",
    "output"
   ]
  },
  {
   "cell_type": "markdown",
   "metadata": {},
   "source": [
    "#### Q17"
   ]
  },
  {
   "cell_type": "code",
   "execution_count": 68,
   "metadata": {},
   "outputs": [
    {
     "name": "stdout",
     "output_type": "stream",
     "text": [
      "[[-13  15   2  12  13]\n",
      " [  4 -11 -16   7 -18]\n",
      " [-17   3  -9   7  16]\n",
      " [ 10 -18   9  -2   7]\n",
      " [ -4   3  17 -18  15]] \n",
      "\n"
     ]
    },
    {
     "data": {
      "text/plain": [
       "array([[ 12,  13],\n",
       "       [  7, -18]])"
      ]
     },
     "execution_count": 68,
     "metadata": {},
     "output_type": "execute_result"
    }
   ],
   "source": [
    "matrix = np.random.randint(-20, 21, (5, 5))\n",
    "print(matrix, '\\n')\n",
    "\n",
    "submatrix = matrix[0:2,3:5]\n",
    "submatrix"
   ]
  },
  {
   "cell_type": "markdown",
   "metadata": {},
   "source": [
    "#### Q18"
   ]
  },
  {
   "cell_type": "code",
   "execution_count": 75,
   "metadata": {},
   "outputs": [
    {
     "name": "stdout",
     "output_type": "stream",
     "text": [
      "[[ -6 -18  20  18  13]\n",
      " [ -8  -1 -20 -20  -6]\n",
      " [-14  -8 -12 -20   0]\n",
      " [  5  10   4  -9   7]\n",
      " [ -6  16  -4  -8  10]] \n",
      "\n"
     ]
    },
    {
     "data": {
      "text/plain": [
       "array([[ -6, -18,  -1,  -1,  13],\n",
       "       [ -8,  -1, -20, -20,  -6],\n",
       "       [-14,  -8, -12, -20,   0],\n",
       "       [  5,  10,   4,  -9,   7],\n",
       "       [ -6,  -1,  -4,  -8,  10]])"
      ]
     },
     "execution_count": 75,
     "metadata": {},
     "output_type": "execute_result"
    }
   ],
   "source": [
    "matrix = np.random.randint(-20, 21, (5, 5))\n",
    "print(matrix, '\\n')\n",
    "\n",
    "matrix[matrix >= 15] = -1\n",
    "matrix"
   ]
  },
  {
   "cell_type": "markdown",
   "metadata": {},
   "source": [
    "#### Q19: Create a 100x2 matrix representing 100 points in a 2D coordinate system. Calculate the Euclidean distance of each point from the origin (0, 0). Sort the points based on their distances from the origin"
   ]
  },
  {
   "cell_type": "code",
   "execution_count": 78,
   "metadata": {},
   "outputs": [
    {
     "name": "stdout",
     "output_type": "stream",
     "text": [
      "[[2 5]\n",
      " [8 6]\n",
      " [3 4]\n",
      " [6 5]\n",
      " [8 9]\n",
      " [2 5]\n",
      " [4 6]\n",
      " [7 5]\n",
      " [2 3]\n",
      " [9 5]] \n",
      "\n",
      "[ 5.38516481 10.          5.          7.81024968 12.04159458  5.38516481\n",
      "  7.21110255  8.60232527  3.60555128 10.29563014] \n",
      "\n",
      "[8 2 0 5 6 3 7 1 9 4] \n",
      "\n",
      "[[2 3]\n",
      " [3 4]\n",
      " [2 5]\n",
      " [2 5]\n",
      " [4 6]\n",
      " [6 5]\n",
      " [7 5]\n",
      " [8 6]\n",
      " [9 5]\n",
      " [8 9]]\n"
     ]
    }
   ],
   "source": [
    "# Step 1: Generate a 100x2 matrix with random numbers\n",
    "points = np.random.randint(0, 10, (10, 2))\n",
    "print(points, '\\n')\n",
    "\n",
    "# Step 2: Calculate the Euclidean distance of each point from the origin\n",
    "distances = np.sqrt(np.sum(points**2, axis=1))\n",
    "print(distances, '\\n')\n",
    "\n",
    "# Step 3: Sort the points based on their distances from the origin\n",
    "sorted_indices = np.argsort(distances)\n",
    "print(sorted_indices, '\\n')\n",
    "\n",
    "sorted_points = points[sorted_indices]\n",
    "print(sorted_points)"
   ]
  },
  {
   "cell_type": "markdown",
   "metadata": {},
   "source": [
    "#### 20: Generate a vector of 100 random numbers between 0 and 1. Replace numbers greater than 0.58 with 1 and numbers less than or equal to 0.58 with 0."
   ]
  },
  {
   "cell_type": "code",
   "execution_count": null,
   "metadata": {},
   "outputs": [],
   "source": [
    "# Step 1: Generate a vector of 100 random numbers between 0 and 1\n",
    "vector = np.random.rand(100)\n",
    "print(\"Generated Vector:\")\n",
    "print(vector)\n",
    "\n",
    "# Step 2: Replace numbers greater than 0.58 with 1 and numbers less than or equal to 0.58 with 0\n",
    "vector[vector > 0.58] = 1\n",
    "vector[vector <= 0.58] = 0\n",
    "\n",
    "print(\"\\nModified Vector:\")\n",
    "print(vector)"
   ]
  },
  {
   "cell_type": "markdown",
   "metadata": {},
   "source": [
    "21. Create five separate 3-element vectors and concatenate them to form a 5x3 matrix."
   ]
  },
  {
   "cell_type": "code",
   "execution_count": null,
   "metadata": {},
   "outputs": [],
   "source": [
    "import numpy as np\n",
    "\n",
    "# Create five separate 3-element vectors\n",
    "vector1 = np.random.rand(3)\n",
    "vector2 = np.random.rand(3)\n",
    "vector3 = np.random.rand(3)\n",
    "vector4 = np.random.rand(3)\n",
    "vector5 = np.random.rand(3)\n",
    "\n",
    "# Concatenate them to form a 5x3 matrix\n",
    "matrix = np.vstack((vector1, vector2, vector3, vector4, vector5))\n",
    "print(matrix)"
   ]
  },
  {
   "cell_type": "markdown",
   "metadata": {},
   "source": [
    "22. Create five separate 3-element vectors and concatenate them to form a 3x5 matrix."
   ]
  },
  {
   "cell_type": "code",
   "execution_count": null,
   "metadata": {},
   "outputs": [],
   "source": [
    "import numpy as np\n",
    "\n",
    "# Create five separate 3-element vectors\n",
    "vector1 = np.random.rand(3)\n",
    "vector2 = np.random.rand(3)\n",
    "vector3 = np.random.rand(3)\n",
    "vector4 = np.random.rand(3)\n",
    "vector5 = np.random.rand(3)\n",
    "\n",
    "# Concatenate them to form a 3x5 matrix\n",
    "matrix = np.hstack((vector1, vector2, vector3, vector4, vector5)).reshape(3, 5)\n",
    "print(matrix)"
   ]
  },
  {
   "cell_type": "markdown",
   "metadata": {},
   "source": [
    "23. Create five separate 3-element vectors and concatenate them to form a 1x3x5 tensor."
   ]
  },
  {
   "cell_type": "code",
   "execution_count": null,
   "metadata": {},
   "outputs": [],
   "source": [
    "import numpy as np\n",
    "\n",
    "# Create five separate 3-element vectors\n",
    "vector1 = np.random.rand(3)\n",
    "vector2 = np.random.rand(3)\n",
    "vector3 = np.random.rand(3)\n",
    "vector4 = np.random.rand(3)\n",
    "vector5 = np.random.rand(3)\n",
    "\n",
    "# Concatenate them to form a 1x3x5 tensor\n",
    "tensor = np.array([vector1, vector2, vector3, vector4, vector5]).reshape(1, 3, 5)\n",
    "print(tensor)"
   ]
  },
  {
   "cell_type": "markdown",
   "metadata": {},
   "source": [
    "24. Create a 6x6 matrix and then return all the numbers in the first row and first column as a vector."
   ]
  },
  {
   "cell_type": "code",
   "execution_count": null,
   "metadata": {},
   "outputs": [],
   "source": [
    "import numpy as np\n",
    "\n",
    "# Create a 6x6 matrix\n",
    "matrix = np.random.rand(6, 6)\n",
    "\n",
    "# Extract the first row and first column\n",
    "first_row = matrix[0, :]\n",
    "first_column = matrix[:, 0]\n",
    "\n",
    "# Concatenate them into a single vector\n",
    "result_vector = np.concatenate((first_row, first_column))\n",
    "print(result_vector)"
   ]
  },
  {
   "cell_type": "markdown",
   "metadata": {},
   "source": [
    "25. Create a 10x10 matrix where each element is the product of its row and column indices, and set the diagonal elements to zero."
   ]
  },
  {
   "cell_type": "code",
   "execution_count": null,
   "metadata": {},
   "outputs": [],
   "source": [
    "import numpy as np\n",
    "\n",
    "# Create a 10x10 matrix where each element is the product of its row and column indices\n",
    "matrix = np.fromfunction(lambda i, j: (i + 1) * (j + 1), (10, 10))\n",
    "\n",
    "# Set the diagonal elements to zero\n",
    "np.fill_diagonal(matrix, 0)\n",
    "print(matrix)"
   ]
  },
  {
   "cell_type": "markdown",
   "metadata": {},
   "source": [
    "26. Create a 2x3x4 tensor and then transpose it to a 4x3x2 tensor."
   ]
  },
  {
   "cell_type": "code",
   "execution_count": null,
   "metadata": {},
   "outputs": [],
   "source": [
    "import numpy as np\n",
    "\n",
    "# Create a 2x3x4 tensor\n",
    "tensor = np.random.rand(2, 3, 4)\n",
    "\n",
    "# Transpose it to a 4x3x2 tensor\n",
    "transposed_tensor = np.transpose(tensor, (2, 1, 0))\n",
    "print(transposed_tensor)"
   ]
  },
  {
   "cell_type": "markdown",
   "metadata": {},
   "source": [
    "## Intermidiate"
   ]
  },
  {
   "cell_type": "markdown",
   "metadata": {},
   "source": [
    "#### 29"
   ]
  },
  {
   "cell_type": "markdown",
   "metadata": {},
   "source": [
    "#### 29"
   ]
  },
  {
   "cell_type": "markdown",
   "metadata": {},
   "source": [
    "#### 29"
   ]
  },
  {
   "cell_type": "markdown",
   "metadata": {},
   "source": [
    "#### 29"
   ]
  },
  {
   "cell_type": "markdown",
   "metadata": {},
   "source": [
    "#### 29"
   ]
  },
  {
   "cell_type": "markdown",
   "metadata": {},
   "source": [
    "#### 29"
   ]
  },
  {
   "cell_type": "markdown",
   "metadata": {},
   "source": [
    "#### 29"
   ]
  }
 ],
 "metadata": {
  "kernelspec": {
   "display_name": "test",
   "language": "python",
   "name": "python3"
  },
  "language_info": {
   "codemirror_mode": {
    "name": "ipython",
    "version": 3
   },
   "file_extension": ".py",
   "mimetype": "text/x-python",
   "name": "python",
   "nbconvert_exporter": "python",
   "pygments_lexer": "ipython3",
   "version": "3.12.4"
  }
 },
 "nbformat": 4,
 "nbformat_minor": 2
}
